{
 "cells": [
  {
   "cell_type": "code",
   "execution_count": null,
   "id": "46011027",
   "metadata": {
    "scrolled": false
   },
   "outputs": [
    {
     "name": "stdout",
     "output_type": "stream",
     "text": [
      "cpu_count 256\n",
      "{'batch_size': 8, 'lr': 0.0002, 'weight_decay': 0.0001, 'num_workers': 128, 'patience': 5, 'epoch': 30, 'accumulation_steps': 8, 'pretrain': True, 'checkpoint': True}\n",
      "Running DDP with model parallel example on rank 0.\n",
      "Running DDP with model parallel example on rank 1.\n",
      "1 2\n",
      "0 2\n",
      "Downloading model weights...\n",
      "/opt/conda/lib/python3.10/site-packages/torchvision/models/_utils.py:223: UserWarning: Arguments other than a weight enum or `None` for 'weights' are deprecated since 0.13 and may be removed in the future. The current behavior is equivalent to passing `weights=EfficientNet_V2_S_Weights.IMAGENET1K_V1`. You can also use `weights=EfficientNet_V2_S_Weights.DEFAULT` to get the most up-to-date weights.\n",
      "  warnings.warn(msg)\n",
      "Rank 1 loading cached model weights...\n",
      "/opt/conda/lib/python3.10/site-packages/torchvision/models/_utils.py:223: UserWarning: Arguments other than a weight enum or `None` for 'weights' are deprecated since 0.13 and may be removed in the future. The current behavior is equivalent to passing `weights=None`.\n",
      "  warnings.warn(msg)\n",
      "load_data started\n",
      "img_crop_size 220\n",
      "Loading data finished Elapsed time: 0.02 seconds\n",
      "load_data started\n",
      "img_crop_size 220\n",
      "Loading data finished Elapsed time: 0.02 seconds\n",
      "check_point True\n",
      "check_point True\n",
      "0 self.device cuda:0\n",
      "1 self.device cuda:1\n"
     ]
    }
   ],
   "source": [
    "import gc\n",
    "import torch\n",
    "#del tensor_name\n",
    "gc.collect()\n",
    "torch.cuda.empty_cache()\n",
    "# !pip install opencv-python\n",
    "# !apt-get update && apt-get install -y libgl1-mesa-glx\n",
    "# !pip install -U scikit-learn\n",
    "# !pip install seaborn\n",
    "!python ddp_script.py"
   ]
  },
  {
   "cell_type": "code",
   "execution_count": 2,
   "id": "1ab3b584",
   "metadata": {},
   "outputs": [
    {
     "data": {
      "text/plain": [
       "256"
      ]
     },
     "execution_count": 2,
     "metadata": {},
     "output_type": "execute_result"
    }
   ],
   "source": [
    "from multiprocessing import cpu_count\n",
    "cpu_count()"
   ]
  },
  {
   "cell_type": "code",
   "execution_count": null,
   "id": "3cbf303f",
   "metadata": {},
   "outputs": [],
   "source": []
  }
 ],
 "metadata": {
  "kernelspec": {
   "display_name": "Python 3 (ipykernel)",
   "language": "python",
   "name": "python3"
  },
  "language_info": {
   "codemirror_mode": {
    "name": "ipython",
    "version": 3
   },
   "file_extension": ".py",
   "mimetype": "text/x-python",
   "name": "python",
   "nbconvert_exporter": "python",
   "pygments_lexer": "ipython3",
   "version": "3.10.11"
  }
 },
 "nbformat": 4,
 "nbformat_minor": 5
}
